{
 "cells": [
  {
   "cell_type": "markdown",
   "metadata": {},
   "source": [
    "# Basic Convolutional Neural Network\n",
    "***Honors Project by Peyton Warren***\n",
    "\n",
    "This neural net uses the MNIST dataset with the listed layers:\n",
    "1. Convolutional layer\n",
    "2. Max Pooling layer\n",
    "3. Fully Connected layer"
   ]
  },
  {
   "cell_type": "code",
   "execution_count": 5,
   "metadata": {},
   "outputs": [],
   "source": [
    "from __future__ import print_function\n",
    "import tensorflow as tf\n",
    "from keras.datasets import mnist\n",
    "from keras.layers import Conv2D, MaxPooling2D, Dense, Flatten\n",
    "from keras.models import Sequential\n",
    "from keras.optimizers import SGD\n",
    "from keras.utils import to_categorical\n",
    "from keras.callbacks import Callback\n",
    "\n",
    "import matplotlib.pylab as plt"
   ]
  },
  {
   "cell_type": "code",
   "execution_count": 6,
   "metadata": {},
   "outputs": [],
   "source": [
    "# Settings for training the model later on\n",
    "batch_size = 128    # 128 items in the training data are being used\n",
    "num_classes = 10    # Number of classifications\n",
    "epochs = 10         # performing 10 epochs\n",
    "input_shape = (img_x, img_y, channels)"
   ]
  },
  {
   "cell_type": "code",
   "execution_count": 7,
   "metadata": {},
   "outputs": [
    {
     "name": "stdout",
     "output_type": "stream",
     "text": [
      "(60000, 28, 28, 1)\n",
      "(60000, 10)\n"
     ]
    },
    {
     "data": {
      "image/png": "[encoded data removed]",
      "text/plain": [
       "<Figure size 432x288 with 1 Axes>"
      ]
     },
     "metadata": {
      "needs_background": "light"
     },
     "output_type": "display_data"
    }
   ],
   "source": [
    "# Data setup\n",
    "# Download mnist dataset\n",
    "(x_train, y_train), (x_test, y_test) = mnist.load_data()\n",
    "\n",
    "# creating the image dimension variables and the number of channels\n",
    "img_x, img_y = x_train.shape[1], x_train.shape[2]\n",
    "channels = 1\n",
    "\n",
    "plt.imshow(x_train[59999], cmap=plt.cm.binary)\n",
    "\n",
    "# Reshape into 4D tensor with tensorflow reshape function\n",
    "# Putting it into the format \"channels_last\" data format (batch, cols, rows, channels)\n",
    "x_train = x_train.reshape(x_train.shape[0], img_x, img_y, channels)\n",
    "x_test = x_test.reshape(x_test.shape[0], img_x, img_y, channels)\n",
    "\n",
    "# change data type to floating point numbers\n",
    "x_train = x_train.astype('float32')\n",
    "x_test = x_test.astype('float32')\n",
    "\n",
    "# Normalize the data, x_train & x_test now between 0 and 1\n",
    "x_train /= 255\n",
    "x_test /= 255\n",
    "\n",
    "# convert class vectors to binary class matrices - this is for use in the\n",
    "# categorical_crossentropy loss below\n",
    "y_train = to_categorical(y_train, num_classes)\n",
    "y_test = to_categorical(y_test, num_classes)\n",
    "\n",
    "# print(type(x_train))    # x_train is a numpy.ndarray object\n",
    "print(x_train.shape)\n",
    "print(y_train.shape)"
   ]
  },
  {
   "cell_type": "code",
   "execution_count": 8,
   "metadata": {},
   "outputs": [],
   "source": [
    "model = Sequential()"
   ]
  },
  {
   "cell_type": "code",
   "execution_count": 9,
   "metadata": {
    "scrolled": false
   },
   "outputs": [],
   "source": [
    "# Adds layers\n",
    "\n",
    "# Convolutional Layer\n",
    "model.add(Conv2D(32, kernel_size = (5, 5), strides = (1, 1), # (5, 1),\n",
    "                 activation='relu',\n",
    "                 input_shape=input_shape))\n",
    "\n",
    "# Max Pooling Layer\n",
    "model.add(MaxPooling2D(pool_size=(2, 2), strides=(2, 2)))\n",
    "\n",
    "model.add(Flatten())\n",
    "\n",
    "# Fully Connected Layer\n",
    "model.add(Dense(num_classes))"
   ]
  },
  {
   "cell_type": "code",
   "execution_count": 10,
   "metadata": {},
   "outputs": [],
   "source": [
    "# Optimizer: Stochastic Gradient Descent\n",
    "sgd = SGD(lr=0.0001)\n",
    "\n",
    "# Compile follows setting up the neural network\n",
    "model.compile(optimizer=sgd,\n",
    "             loss='categorical_crossentropy',\n",
    "             metrics=['accuracy'])"
   ]
  },
  {
   "cell_type": "code",
   "execution_count": 11,
   "metadata": {},
   "outputs": [],
   "source": [
    "class AccuracyHistory(Callback):\n",
    "    def on_train_begin(self, logs={}):\n",
    "        self.acc = []\n",
    "\n",
    "    def on_epoch_end(self, batch, logs={}):\n",
    "        self.acc.append(logs.get('acc'))\n",
    "\n",
    "history = AccuracyHistory()"
   ]
  },
  {
   "cell_type": "code",
   "execution_count": 12,
   "metadata": {
    "scrolled": false
   },
   "outputs": [
    {
     "name": "stdout",
     "output_type": "stream",
     "text": [
      "Train on 60000 samples, validate on 10000 samples\n",
      "Epoch 1/10\n",
      "60000/60000 [==============================] - 19s 321us/step - loss: 2.6686 - acc: 0.0992 - val_loss: 2.2571 - val_acc: 0.0980\n",
      "Epoch 2/10\n",
      "60000/60000 [==============================] - 18s 301us/step - loss: 2.1711 - acc: 0.0987 - val_loss: 2.0896 - val_acc: 0.0980\n",
      "Epoch 3/10\n",
      "60000/60000 [==============================] - 18s 304us/step - loss: 2.0087 - acc: 0.1203 - val_loss: 1.9162 - val_acc: 0.1659\n",
      "Epoch 4/10\n",
      "60000/60000 [==============================] - 18s 303us/step - loss: 1.7672 - acc: 0.2111 - val_loss: 1.4971 - val_acc: 0.2886\n",
      "Epoch 5/10\n",
      "60000/60000 [==============================] - 18s 304us/step - loss: 6.0069 - acc: 0.2472 - val_loss: 6.1221 - val_acc: 0.1562\n",
      "Epoch 6/10\n",
      "60000/60000 [==============================] - 18s 307us/step - loss: 5.8852 - acc: 0.1600 - val_loss: 8.4686 - val_acc: 0.1438\n",
      "Epoch 7/10\n",
      "60000/60000 [==============================] - 20s 339us/step - loss: 7.9803 - acc: 0.1560 - val_loss: 7.4976 - val_acc: 0.1488\n",
      "Epoch 8/10\n",
      "60000/60000 [==============================] - 19s 313us/step - loss: 7.9189 - acc: 0.1627 - val_loss: 5.5438 - val_acc: 0.1660\n",
      "Epoch 9/10\n",
      "60000/60000 [==============================] - 18s 301us/step - loss: 5.7969 - acc: 0.1740 - val_loss: 5.7298 - val_acc: 0.1677\n",
      "Epoch 10/10\n",
      "60000/60000 [==============================] - 19s 316us/step - loss: 6.0490 - acc: 0.1747 - val_loss: 5.9550 - val_acc: 0.1691\n"
     ]
    },
    {
     "data": {
      "text/plain": [
       "<keras.callbacks.History at 0x7f71bef71950>"
      ]
     },
     "execution_count": 12,
     "metadata": {},
     "output_type": "execute_result"
    }
   ],
   "source": [
    "model.fit(x_train, y_train,      # inputing the training x and y\n",
    "          batch_size=batch_size,\n",
    "          epochs=epochs,\n",
    "          verbose=1,             # verbose 1 means it has a progress bar for every epoch\n",
    "          validation_data=(x_test, y_test),\n",
    "          callbacks=[history])"
   ]
  },
  {
   "cell_type": "code",
   "execution_count": 13,
   "metadata": {},
   "outputs": [
    {
     "name": "stdout",
     "output_type": "stream",
     "text": [
      "10000/10000 [==============================] - 1s 136us/step\n"
     ]
    }
   ],
   "source": [
    "score = model.evaluate(x_test, y_test, verbose=1)"
   ]
  },
  {
   "cell_type": "code",
   "execution_count": 14,
   "metadata": {},
   "outputs": [
    {
     "name": "stdout",
     "output_type": "stream",
     "text": [
      "Test loss: 5.955017721557617\n",
      "Test accuracy: 0.1691\n"
     ]
    }
   ],
   "source": [
    "print('Test loss:', score[0])\n",
    "print('Test accuracy:', score[1])\n",
    "# print(model.metrics_namess)"
   ]
  },
  {
   "cell_type": "code",
   "execution_count": 15,
   "metadata": {},
   "outputs": [
    {
     "data": {
      "image/png": "[encoded data removed]",
      "text/plain": [
       "<Figure size 432x288 with 1 Axes>"
      ]
     },
     "metadata": {
      "needs_background": "light"
     },
     "output_type": "display_data"
    }
   ],
   "source": [
    "plt.plot(range(1, 11), history.acc)\n",
    "plt.xlabel('Epochs')\n",
    "plt.ylabel('Accuracy')\n",
    "plt.show()"
   ]
  },
  {
   "cell_type": "code",
   "execution_count": null,
   "metadata": {},
   "outputs": [],
   "source": []
  }
 ],
 "metadata": {
  "kernelspec": {
   "display_name": "Python 2",
   "language": "python",
   "name": "python2"
  },
  "language_info": {
   "codemirror_mode": {
    "name": "ipython",
    "version": 2
   },
   "file_extension": ".py",
   "mimetype": "text/x-python",
   "name": "python",
   "nbconvert_exporter": "python",
   "pygments_lexer": "ipython2",
   "version": "2.7.12"
  }
 },
 "nbformat": 4,
 "nbformat_minor": 2
}
