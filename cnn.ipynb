{
 "cells": [
  {
   "cell_type": "markdown",
   "metadata": {},
   "source": [
    "# Basic Convolutional Neural Network\n",
    "***Honors Project by Peyton Warren***\n",
    "\n",
    "This neural net uses the MNIST dataset with the listed layers:\n",
    "1. Convolutional layer\n",
    "2. Max Pooling layer\n",
    "3. Fully Connected layer"
   ]
  },
  {
   "cell_type": "code",
   "execution_count": 30,
   "metadata": {},
   "outputs": [],
   "source": [
    "from __future__ import print_function\n",
    "import tensorflow as tf\n",
    "from keras.datasets import mnist\n",
    "from keras.layers import Conv2D, MaxPooling2D, Dense, Flatten\n",
    "from keras.models import Sequential\n",
    "from keras.optimizers import SGD\n",
    "from keras.utils import to_categorical\n",
    "from keras.callbacks import Callback\n",
    "\n",
    "import matplotlib.pylab as plt"
   ]
  },
  {
   "cell_type": "code",
   "execution_count": 31,
   "metadata": {},
   "outputs": [
    {
     "name": "stdout",
     "output_type": "stream",
     "text": [
      "(60000, 28, 28, 1)\n",
      "(60000, 10)\n"
     ]
    },
    {
     "data": {
      "image/png": "[encoded data removed]",
      "text/plain": [
       "<Figure size 432x288 with 1 Axes>"
      ]
     },
     "metadata": {
      "needs_background": "light"
     },
     "output_type": "display_data"
    }
   ],
   "source": [
    "# Data setup\n",
    "# Download mnist dataset\n",
    "(x_train, y_train), (x_test, y_test) = mnist.load_data()\n",
    "\n",
    "# creating the image dimension variables and the number of channels\n",
    "img_x, img_y = x_train.shape[1], x_train.shape[2]\n",
    "channels = 1\n",
    "\n",
    "plt.imshow(x_train[59999], cmap=plt.cm.binary)\n",
    "\n",
    "# Reshape into 4D tensor with tensorflow reshape function\n",
    "# Putting it into the format \"channels_last\" data format (batch, cols, rows, channels)\n",
    "x_train = x_train.reshape(x_train.shape[0], img_x, img_y, channels)\n",
    "x_test = x_test.reshape(x_test.shape[0], img_x, img_y, channels)\n",
    "\n",
    "# change data type to floating point numbers\n",
    "x_train = x_train.astype('float32')\n",
    "x_test = x_test.astype('float32')\n",
    "\n",
    "# Normalize the data, x_train & x_test now between 0 and 1\n",
    "x_train /= 255\n",
    "x_test /= 255\n",
    "\n",
    "# convert class vectors to binary class matrices - this is for use in the\n",
    "# categorical_crossentropy loss below\n",
    "y_train = to_categorical(y_train, num_classes)\n",
    "y_test = to_categorical(y_test, num_classes)\n",
    "\n",
    "# print(type(x_train))    # x_train is a numpy.ndarray object\n",
    "print(x_train.shape)\n",
    "print(y_train.shape)"
   ]
  },
  {
   "cell_type": "code",
   "execution_count": 32,
   "metadata": {},
   "outputs": [],
   "source": [
    "# Settings for training the model later on\n",
    "batch_size = 128    # 128 items in the training data are being used\n",
    "num_classes = 10    # Number of classifications\n",
    "epochs = 10         # performing 10 epochs\n",
    "input_shape = (img_x, img_y, channels)"
   ]
  },
  {
   "cell_type": "code",
   "execution_count": 33,
   "metadata": {},
   "outputs": [],
   "source": [
    "model = Sequential()"
   ]
  },
  {
   "cell_type": "code",
   "execution_count": 34,
   "metadata": {
    "scrolled": false
   },
   "outputs": [],
   "source": [
    "# Adds layers\n",
    "\n",
    "# Convolutional Layer\n",
    "model.add(Conv2D(32, kernel_size = (5, 5), strides = (1, 1), # (5, 1),\n",
    "                 activation='relu',\n",
    "                 input_shape=input_shape))\n",
    "\n",
    "# Max Pooling Layer\n",
    "model.add(MaxPooling2D(pool_size=(2, 2), strides=(2, 2)))\n",
    "\n",
    "model.add(Flatten())\n",
    "\n",
    "# Fully Connected Layer\n",
    "model.add(Dense(num_classes))"
   ]
  },
  {
   "cell_type": "code",
   "execution_count": 35,
   "metadata": {},
   "outputs": [],
   "source": [
    "# Optimizer: Stochastic Gradient Descent\n",
    "sgd = SGD(lr=0.0001)\n",
    "\n",
    "# Compile follows setting up the neural network\n",
    "model.compile(optimizer=sgd,\n",
    "             loss='categorical_crossentropy',\n",
    "             metrics=['accuracy'])"
   ]
  },
  {
   "cell_type": "code",
   "execution_count": 36,
   "metadata": {},
   "outputs": [],
   "source": [
    "class AccuracyHistory(Callback):\n",
    "    def on_train_begin(self, logs={}):\n",
    "        self.acc = []\n",
    "\n",
    "    def on_epoch_end(self, batch, logs={}):\n",
    "        self.acc.append(logs.get('acc'))\n",
    "\n",
    "history = AccuracyHistory()"
   ]
  },
  {
   "cell_type": "code",
   "execution_count": 37,
   "metadata": {
    "scrolled": false
   },
   "outputs": [
    {
     "name": "stdout",
     "output_type": "stream",
     "text": [
      "Train on 60000 samples, validate on 10000 samples\n",
      "Epoch 1/10\n",
      "60000/60000 [==============================] - 18s 301us/step - loss: 6.8773 - acc: 0.1748 - val_loss: 7.7063 - val_acc: 0.1952\n",
      "Epoch 2/10\n",
      "60000/60000 [==============================] - 18s 305us/step - loss: 7.6790 - acc: 0.1865 - val_loss: 7.5963 - val_acc: 0.1948\n",
      "Epoch 3/10\n",
      "60000/60000 [==============================] - 18s 306us/step - loss: 8.0769 - acc: 0.1878 - val_loss: 8.1943 - val_acc: 0.1963\n",
      "Epoch 4/10\n",
      "60000/60000 [==============================] - 18s 304us/step - loss: 8.4686 - acc: 0.1893 - val_loss: 8.6099 - val_acc: 0.1986\n",
      "Epoch 5/10\n",
      "60000/60000 [==============================] - 18s 304us/step - loss: 8.7671 - acc: 0.1898 - val_loss: 8.8425 - val_acc: 0.1998\n",
      "Epoch 6/10\n",
      "60000/60000 [==============================] - 18s 306us/step - loss: 8.9917 - acc: 0.1893 - val_loss: 9.1008 - val_acc: 0.1996\n",
      "Epoch 7/10\n",
      "60000/60000 [==============================] - 18s 308us/step - loss: 8.9226 - acc: 0.1920 - val_loss: 8.9394 - val_acc: 0.2004\n",
      "Epoch 8/10\n",
      "60000/60000 [==============================] - 19s 312us/step - loss: 8.8090 - acc: 0.0993 - val_loss: 8.7005 - val_acc: 0.0892\n",
      "Epoch 9/10\n",
      "60000/60000 [==============================] - 19s 311us/step - loss: 8.6302 - acc: 0.0903 - val_loss: 8.5274 - val_acc: 0.0892\n",
      "Epoch 10/10\n",
      "60000/60000 [==============================] - 19s 310us/step - loss: 8.3589 - acc: 0.0903 - val_loss: 8.2376 - val_acc: 0.0892\n"
     ]
    },
    {
     "data": {
      "text/plain": [
       "<keras.callbacks.History at 0x7f16490d0610>"
      ]
     },
     "execution_count": 37,
     "metadata": {},
     "output_type": "execute_result"
    }
   ],
   "source": [
    "model.fit(x_train, y_train,      # inputing the training x and y\n",
    "          batch_size=batch_size,\n",
    "          epochs=epochs,\n",
    "          verbose=1,             # verbose 1 means it has a progress bar for every epoch\n",
    "          validation_data=(x_test, y_test),\n",
    "          callbacks=[history])"
   ]
  },
  {
   "cell_type": "code",
   "execution_count": 38,
   "metadata": {},
   "outputs": [],
   "source": [
    "score = model.evaluate(x_test, y_test, verbose=0)"
   ]
  },
  {
   "cell_type": "code",
   "execution_count": 41,
   "metadata": {},
   "outputs": [
    {
     "name": "stdout",
     "output_type": "stream",
     "text": [
      "Test loss: 8.23757339401245\n",
      "Test accuracy: 0.0892\n"
     ]
    }
   ],
   "source": [
    "print('Test loss:', score[0])\n",
    "print('Test accuracy:', score[1])"
   ]
  },
  {
   "cell_type": "code",
   "execution_count": 42,
   "metadata": {},
   "outputs": [
    {
     "data": {
      "image/png": "[encoded data removed]",
      "text/plain": [
       "<Figure size 432x288 with 1 Axes>"
      ]
     },
     "metadata": {
      "needs_background": "light"
     },
     "output_type": "display_data"
    }
   ],
   "source": [
    "plt.plot(range(1, 11), history.acc)\n",
    "plt.xlabel('Epochs')\n",
    "plt.ylabel('Accuracy')\n",
    "plt.show()"
   ]
  },
  {
   "cell_type": "code",
   "execution_count": null,
   "metadata": {},
   "outputs": [],
   "source": []
  }
 ],
 "metadata": {
  "kernelspec": {
   "display_name": "Python 2",
   "language": "python",
   "name": "python2"
  },
  "language_info": {
   "codemirror_mode": {
    "name": "ipython",
    "version": 2
   },
   "file_extension": ".py",
   "mimetype": "text/x-python",
   "name": "python",
   "nbconvert_exporter": "python",
   "pygments_lexer": "ipython2",
   "version": "2.7.12"
  }
 },
 "nbformat": 4,
 "nbformat_minor": 2
}
